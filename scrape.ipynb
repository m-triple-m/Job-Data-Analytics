{
 "cells": [
  {
   "cell_type": "code",
   "execution_count": 4,
   "metadata": {},
   "outputs": [],
   "source": [
    "import requests\n",
    "from selenium import webdriver\n",
    "from bs4 import BeautifulSoup\n",
    "from webdriver_manager.chrome import ChromeDriverManager\n",
    "import time\n",
    "import pandas as pd"
   ]
  },
  {
   "cell_type": "code",
   "execution_count": 5,
   "metadata": {},
   "outputs": [],
   "source": [
    "url =  \"https://www.naukri.com/financial-analyst-jobs-in-mumbai?profile=financial%20analyst&location=mumbai\""
   ]
  },
  {
   "cell_type": "code",
   "execution_count": 6,
   "metadata": {},
   "outputs": [
    {
     "name": "stderr",
     "output_type": "stream",
     "text": [
      "\n",
      "\n",
      "====== WebDriver manager ======\n",
      "Current google-chrome version is 98.0.4758\n",
      "Get LATEST chromedriver version for 98.0.4758 google-chrome\n",
      "Driver [C:\\Users\\PC\\.wdm\\drivers\\chromedriver\\win32\\98.0.4758.102\\chromedriver.exe] found in cache\n",
      "C:\\Users\\PC\\AppData\\Local\\Temp/ipykernel_3116/550121082.py:1: DeprecationWarning: executable_path has been deprecated, please pass in a Service object\n",
      "  driver = webdriver.Chrome(ChromeDriverManager().install())\n"
     ]
    }
   ],
   "source": [
    "driver = webdriver.Chrome(ChromeDriverManager().install())\n",
    "driver.get(url)\n",
    "time.sleep(3)\n",
    "soup = BeautifulSoup(driver.page_source, 'html5lib')\n",
    "driver.close()"
   ]
  },
  {
   "cell_type": "code",
   "execution_count": 7,
   "metadata": {},
   "outputs": [],
   "source": [
    "df = pd.DataFrame(columns=['Title','Company','Ratings','Reviews','Experience','Salary','Location','Job_Post_History','URL'])"
   ]
  },
  {
   "cell_type": "code",
   "execution_count": 8,
   "metadata": {},
   "outputs": [],
   "source": [
    "results = soup.find(class_='list')"
   ]
  },
  {
   "cell_type": "code",
   "execution_count": 9,
   "metadata": {},
   "outputs": [
    {
     "data": {
      "text/plain": [
       "20"
      ]
     },
     "execution_count": 9,
     "metadata": {},
     "output_type": "execute_result"
    }
   ],
   "source": [
    "job_elems = results.find_all('article',class_='jobTuple bgWhite br4 mb-8')\n",
    "len(job_elems)"
   ]
  },
  {
   "cell_type": "code",
   "execution_count": 10,
   "metadata": {},
   "outputs": [
    {
     "name": "stdout",
     "output_type": "stream",
     "text": [
      "0\n",
      "1\n",
      "2\n",
      "3\n",
      "4\n",
      "5\n",
      "6\n",
      "7\n",
      "8\n",
      "9\n",
      "10\n",
      "11\n",
      "12\n",
      "13\n",
      "14\n",
      "15\n",
      "16\n",
      "17\n",
      "18\n",
      "19\n"
     ]
    }
   ],
   "source": [
    "for idx,job_elem in enumerate(job_elems):\n",
    "    print(idx)\n",
    "    # URL to apply for the job     \n",
    "    URL = job_elem.find('a',class_='title fw500 ellipsis').get('href')\n",
    "#     print(URL.strip())\n",
    "\n",
    "    # Post Title\n",
    "    Title = job_elem.find('a',class_='title fw500 ellipsis')\n",
    "\n",
    "    # Company Name\n",
    "    Company = job_elem.find('a',class_='subTitle ellipsis fleft')\n",
    "\n",
    "    # Ratings\n",
    "    rating_span = job_elem.find('span',class_='starRating fleft dot')\n",
    "    if rating_span is None:\n",
    "        continue\n",
    "    else:\n",
    "        Ratings = rating_span.text\n",
    "\n",
    "    # Reviews Counts\n",
    "    Review_span = job_elem.find('a',class_='reviewsCount ml-5 fleft blue-text')\n",
    "    if Review_span is None:\n",
    "        continue\n",
    "    else:\n",
    "        Reviews = Review_span.text\n",
    "\n",
    "    # Years of experience Required\n",
    "    Exp = job_elem.find('li',class_='fleft grey-text br2 placeHolderLi experience')\n",
    "    Exp_span = Exp.find('span',class_='ellipsis fleft fs12 lh16')\n",
    "    if Exp_span is None:\n",
    "        continue\n",
    "    else:\n",
    "        Experience = Exp_span.text\n",
    "\n",
    "    # Salary offered for the job\n",
    "    Sal = job_elem.find('li',class_='fleft grey-text br2 placeHolderLi salary')\n",
    "    Sal_span = Sal.find('span',class_='ellipsis fleft fs12 lh16')\n",
    "    if Sal_span is None:\n",
    "        continue\n",
    "    else:\n",
    "        Salary = Sal_span.text\n",
    "\n",
    "    # Location for the job post\n",
    "    Loc = job_elem.find('li',class_='fleft grey-text br2 placeHolderLi location')\n",
    "    Loc_exp = Loc.find('span',class_='ellipsis fleft fs12 lh16')\n",
    "    if Loc_exp is None:\n",
    "        continue\n",
    "    else:\n",
    "        Location = Loc_exp.text\n",
    "\n",
    "    # Number of days since job posted\n",
    "    Hist = job_elem.find(\"div\",[\"type br2 fleft grey\",\"type br2 fleft green\"])\n",
    "    Post_Hist = Hist.find('span',class_='fleft fw500')\n",
    "    if Post_Hist is None:\n",
    "        continue\n",
    "    else:\n",
    "        Post_History = Post_Hist.text\n",
    "\n",
    "#   Appending data to the DataFrame \n",
    "    df=df.append({'URL':URL,'Title':Title.text,'Company':Company.text,'Ratings':Ratings,'Reviews':Reviews,'Experience':Experience,'Salary':Salary,'Location':Location,'Job_Post_History':Post_History},ignore_index=True)"
   ]
  },
  {
   "cell_type": "code",
   "execution_count": 11,
   "metadata": {},
   "outputs": [
    {
     "data": {
      "text/plain": [
       "Index(['Title', 'Company', 'Ratings', 'Reviews', 'Experience', 'Salary',\n",
       "       'Location', 'Job_Post_History', 'URL'],\n",
       "      dtype='object')"
      ]
     },
     "execution_count": 11,
     "metadata": {},
     "output_type": "execute_result"
    }
   ],
   "source": [
    "df.columns\n"
   ]
  },
  {
   "cell_type": "code",
   "execution_count": 12,
   "metadata": {},
   "outputs": [
    {
     "data": {
      "text/html": [
       "<div>\n",
       "<style scoped>\n",
       "    .dataframe tbody tr th:only-of-type {\n",
       "        vertical-align: middle;\n",
       "    }\n",
       "\n",
       "    .dataframe tbody tr th {\n",
       "        vertical-align: top;\n",
       "    }\n",
       "\n",
       "    .dataframe thead th {\n",
       "        text-align: right;\n",
       "    }\n",
       "</style>\n",
       "<table border=\"1\" class=\"dataframe\">\n",
       "  <thead>\n",
       "    <tr style=\"text-align: right;\">\n",
       "      <th></th>\n",
       "      <th>Title</th>\n",
       "      <th>Company</th>\n",
       "      <th>Ratings</th>\n",
       "      <th>Reviews</th>\n",
       "      <th>Experience</th>\n",
       "      <th>Salary</th>\n",
       "      <th>Location</th>\n",
       "      <th>Job_Post_History</th>\n",
       "      <th>URL</th>\n",
       "    </tr>\n",
       "  </thead>\n",
       "  <tbody>\n",
       "    <tr>\n",
       "      <th>0</th>\n",
       "      <td>Offroll Associate - Financial Analyst (Smart)</td>\n",
       "      <td>Crisil</td>\n",
       "      <td>3.7</td>\n",
       "      <td>(689 Reviews)</td>\n",
       "      <td>0-1 Yrs</td>\n",
       "      <td>Not disclosed</td>\n",
       "      <td>Pune, Mumbai (All Areas)</td>\n",
       "      <td>1 Day Ago</td>\n",
       "      <td>https://www.naukri.com/job-listings-offroll-as...</td>\n",
       "    </tr>\n",
       "    <tr>\n",
       "      <th>1</th>\n",
       "      <td>Finance Business Analyst</td>\n",
       "      <td>Fractal Analytics</td>\n",
       "      <td>4.0</td>\n",
       "      <td>(149 Reviews)</td>\n",
       "      <td>2-4 Yrs</td>\n",
       "      <td>Not disclosed</td>\n",
       "      <td>Mumbai</td>\n",
       "      <td>Just Now</td>\n",
       "      <td>https://www.naukri.com/job-listings-finance-bu...</td>\n",
       "    </tr>\n",
       "    <tr>\n",
       "      <th>2</th>\n",
       "      <td>Analyst Financial Strategy</td>\n",
       "      <td>TresVista Financial Services Pvt Ltd</td>\n",
       "      <td>3.1</td>\n",
       "      <td>(44 Reviews)</td>\n",
       "      <td>0-1 Yrs</td>\n",
       "      <td>Not disclosed</td>\n",
       "      <td>Mumbai, Bangalore/Bengaluru</td>\n",
       "      <td>1 Day Ago</td>\n",
       "      <td>https://www.naukri.com/job-listings-analyst-fi...</td>\n",
       "    </tr>\n",
       "    <tr>\n",
       "      <th>3</th>\n",
       "      <td>Financial Markets - Financial Analyst</td>\n",
       "      <td>eClerx</td>\n",
       "      <td>3.6</td>\n",
       "      <td>(2419 Reviews)</td>\n",
       "      <td>0-2 Yrs</td>\n",
       "      <td>Not disclosed</td>\n",
       "      <td>Mumbai</td>\n",
       "      <td>3 Days Ago</td>\n",
       "      <td>https://www.naukri.com/job-listings-financial-...</td>\n",
       "    </tr>\n",
       "    <tr>\n",
       "      <th>4</th>\n",
       "      <td>Sr Manager-Financial Planning &amp; Analyst- Lower...</td>\n",
       "      <td>Entertainment Network</td>\n",
       "      <td>3.8</td>\n",
       "      <td>(73 Reviews)</td>\n",
       "      <td>3-5 Yrs</td>\n",
       "      <td>8,00,000 - 12,00,000 PA.</td>\n",
       "      <td>Mumbai</td>\n",
       "      <td>1 Day Ago</td>\n",
       "      <td>https://www.naukri.com/job-listings-sr-manager...</td>\n",
       "    </tr>\n",
       "  </tbody>\n",
       "</table>\n",
       "</div>"
      ],
      "text/plain": [
       "                                               Title  \\\n",
       "0      Offroll Associate - Financial Analyst (Smart)   \n",
       "1                           Finance Business Analyst   \n",
       "2                         Analyst Financial Strategy   \n",
       "3              Financial Markets - Financial Analyst   \n",
       "4  Sr Manager-Financial Planning & Analyst- Lower...   \n",
       "\n",
       "                                Company Ratings         Reviews Experience  \\\n",
       "0                                Crisil     3.7   (689 Reviews)    0-1 Yrs   \n",
       "1                     Fractal Analytics     4.0   (149 Reviews)    2-4 Yrs   \n",
       "2  TresVista Financial Services Pvt Ltd     3.1    (44 Reviews)    0-1 Yrs   \n",
       "3                                eClerx     3.6  (2419 Reviews)    0-2 Yrs   \n",
       "4                 Entertainment Network     3.8    (73 Reviews)    3-5 Yrs   \n",
       "\n",
       "                     Salary                     Location Job_Post_History  \\\n",
       "0             Not disclosed     Pune, Mumbai (All Areas)        1 Day Ago   \n",
       "1             Not disclosed                       Mumbai         Just Now   \n",
       "2             Not disclosed  Mumbai, Bangalore/Bengaluru        1 Day Ago   \n",
       "3             Not disclosed                       Mumbai       3 Days Ago   \n",
       "4  8,00,000 - 12,00,000 PA.                       Mumbai        1 Day Ago   \n",
       "\n",
       "                                                 URL  \n",
       "0  https://www.naukri.com/job-listings-offroll-as...  \n",
       "1  https://www.naukri.com/job-listings-finance-bu...  \n",
       "2  https://www.naukri.com/job-listings-analyst-fi...  \n",
       "3  https://www.naukri.com/job-listings-financial-...  \n",
       "4  https://www.naukri.com/job-listings-sr-manager...  "
      ]
     },
     "execution_count": 12,
     "metadata": {},
     "output_type": "execute_result"
    }
   ],
   "source": [
    "df.head()"
   ]
  },
  {
   "cell_type": "code",
   "execution_count": null,
   "metadata": {},
   "outputs": [],
   "source": []
  }
 ],
 "metadata": {
  "interpreter": {
   "hash": "feb5410b972a84561cf38b0fe3aceb480d942002c0e798026e87d39a79c73f3a"
  },
  "kernelspec": {
   "display_name": "Python 3.9.7 64-bit",
   "name": "python3"
  },
  "language_info": {
   "codemirror_mode": {
    "name": "ipython",
    "version": 3
   },
   "file_extension": ".py",
   "mimetype": "text/x-python",
   "name": "python",
   "nbconvert_exporter": "python",
   "pygments_lexer": "ipython3",
   "version": "3.9.8"
  },
  "orig_nbformat": 4
 },
 "nbformat": 4,
 "nbformat_minor": 2
}
